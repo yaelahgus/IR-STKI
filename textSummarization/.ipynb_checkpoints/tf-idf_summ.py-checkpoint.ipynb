{
 "cells": [
  {
   "cell_type": "markdown",
   "metadata": {},
   "source": [
    "## Text Summarization - (tf-idf)\n",
    "\n",
    "#### STEP 1 : Data cleaning \n",
    "#### STEP 2 : Score of sentences (tf-idf)\n",
    "#### STEP 3 : Summary Generation"
   ]
  },
  {
   "cell_type": "markdown",
   "metadata": {},
   "source": [
    "## Initial Phase\n",
    "### Importing Libraries and Reading Data "
   ]
  },
  {
   "cell_type": "code",
   "execution_count": 1,
   "metadata": {},
   "outputs": [],
   "source": [
    "### importing the necessary libraries\n",
    "\n",
    "from nltk.corpus import stopwords\n",
    "import numpy as np\n",
    "import pandas\n",
    "import nltk\n",
    "import re\n",
    "# from __future__ import division"
   ]
  },
  {
   "cell_type": "code",
   "execution_count": 2,
   "metadata": {},
   "outputs": [],
   "source": [
    "df = pandas.read_csv('Data/tennis_articles_v4.csv')"
   ]
  },
  {
   "cell_type": "code",
   "execution_count": 3,
   "metadata": {},
   "outputs": [
    {
     "name": "stdout",
     "output_type": "stream",
     "text": [
      "0    Maria Sharapova has basically no friends as te...\n",
      "1    BASEL, Switzerland (AP), Roger Federer advance...\n",
      "2    Roger Federer has revealed that organisers of ...\n",
      "3    Kei Nishikori will try to end his long losing ...\n",
      "4    Federer, 37, first broke through on tour over ...\n",
      "5    Nadal has not played tennis since he was force...\n",
      "6    Tennis giveth, and tennis taketh away. The end...\n",
      "7    Federer won the Swiss Indoors last week by bea...\n",
      "Name: article_text, dtype: object\n",
      "1561\n",
      "1331\n",
      "2063\n",
      "1341\n",
      "2076\n",
      "1545\n",
      "1079\n",
      "1833\n"
     ]
    }
   ],
   "source": [
    "print(df['article_text'])\n",
    "\n",
    "for a in df['article_text']:\n",
    "    print(len(a))"
   ]
  },
  {
   "cell_type": "markdown",
   "metadata": {},
   "source": [
    "### Tokenizing sentences into words which would be used for calculating tf-idf scores"
   ]
  },
  {
   "cell_type": "code",
   "execution_count": 4,
   "metadata": {},
   "outputs": [],
   "source": [
    "### tokenized the sentences from the different news articles\n",
    "\n",
    "from nltk.tokenize import sent_tokenize\n",
    "s = \"\"\n",
    "for a in df['article_text']:\n",
    "      s += a\n",
    "sentences = sent_tokenize(s)\n",
    "# sentences"
   ]
  },
  {
   "cell_type": "markdown",
   "metadata": {},
   "source": [
    "## STEP 1 : Data Cleaning\n",
    "### Cleaning sentences, by removing Non Alphabet Characters and converting to Lower Case Letters"
   ]
  },
  {
   "cell_type": "code",
   "execution_count": 5,
   "metadata": {},
   "outputs": [
    {
     "data": {
      "text/plain": [
       "'maria sharapova has basically no friends as tennis players on the wta tour the russian player has no problems in openly speaking about it and in a recent interview she said   i don t really hide any feelings too much i think everyone knows this is my job here when i m on the courts or when i m on the court playing  i m a competitor and i want to beat every single person whether they re in the locker room or across the net so i m not the one to strike up a conversation about the weather and know that in the next few minutes i have to go and try to win a tennis match i m a pretty competitive girl i say my hellos  but i m not sending any players flowers as well uhm  i m not really friendly or close to many players i have not a lot of friends away from the courts  when she said she is not really close to a lot of players  is that something strategic that she is doing is it different on the men s tour than the women s tour  no  not at all i think just because you re in the same sport doesn t mean that you have to be friends with everyone just because you re categorized  you re a tennis player  so you re going to get along with tennis players i think every person has different interests i have friends that have completely different jobs and interests  and i ve met them in very different parts of my life i think everyone just thinks because we re tennis players we should be the greatest of friends but ultimately tennis is just a very small part of what we do there are so many other things that we re interested in  that we do  basel  switzerland  ap   roger federer advanced to the   th swiss indoors final of his career by beating seventh seeded daniil medvedev          on saturday seeking a ninth title at his hometown event  and a   th overall  federer will play   th ranked marius copil on sunday federer dominated the   th ranked medvedev and had his first match point chance to break serve again at     he then dropped his serve to love  and let another match point slip in medvedev s next service game by netting a backhand he clinched on his fourth chance when medvedev netted from the baseline copil upset expectations of a federer final against alexander zverev in a                   win over the fifth ranked german in the earlier semifinal the romanian aims for a first title after arriving at basel without a career win over a top    opponent copil has two after also beating no   marin cilic in the second round copil fired    aces past zverev and never dropped serve  clinching after       hours with a forehand volley winner to break zverev for the second time in the semifinal he came through two rounds of qualifying last weekend to reach the basel main draw  including beating zverev s older brother  mischa federer had an easier time than in his only previous match against medvedev  a three setter at shanghai two weeks ago roger federer has revealed that organisers of the re launched and condensed davis cup gave him three days to decide if he would commit to the controversial competition speaking at the swiss indoors tournament where he will play in sundays final against romanian qualifier marius copil  the world number three said that given the impossibly short time frame to make a decision  he opted out of any commitment  they only left me three days to decide   federer said  i didn t to have time to consult with all the people i had to consult  i could not make a decision in that time  so i told them to do what they wanted  the    time grand slam champion has voiced doubts about the wisdom of the one week format to be introduced by organisers kosmos  who have promised the international tennis federation up to    billion in prize money over the next quarter century the competition is set to feature    countries in the november       finals in madrid next year  and will replace the classic home and away ties played four times per year for decades kosmos is headed by barcelona footballer gerard pique  who is hoping fellow spaniard rafael nadal will play in the upcoming event novak djokovic has said he will give precedence to the atp s intended re launch of the defunct world team cup in january       at various australian venues major players feel that a big event in late november combined with one in january before the australian open will mean too much tennis and too little rest federer said earlier this month in shanghai in that his chances of playing the davis cup were all but non existent  i highly doubt it  of course we will see what happens   he said  i do not think this was designed for me  anyhow this was designed for the future generation of players  argentina and britain received wild cards to the new look event  and will compete along with the four      semi finalists and the    teams who win qualifying rounds next february  i don t like being under that kind of pressure   federer said of the deadline kosmos handed him kei nishikori will try to end his long losing streak in atp finals and kevin anderson will go for his second title of the year at the erste bank open on sunday the fifth seeded nishikori reached his third final of      after beating mikhail kukushkin of kazakhstan          in the semifinals a winner of    atp events  nishikori hasn t triumphed since winning in memphis in february      he has lost eight straight finals since the second seeded anderson defeated fernando verdasco               anderson has a shot at a fifth career title and second of the year after winning in new york in february nishikori leads anderson     on career matchups  but the south african won their only previous meeting this year with a victory on sunday  anderson will qualify for the atp finals currently in ninth place  nishikori with a win could move to within     points of the cut for the eight man event in london next month nishikori held serve throughout against kukushkin  who came through qualifying he used his first break point to close out the first set before going up     in the second and wrapping up the win on his first match point against verdasco  anderson hit nine of his    aces in the opening set the spaniard broke anderson twice in the second but didn t get another chance on the south african s serve in the final set federer      first broke through on tour over two decades ago and he has since gone on to enjoy a glittering career the    time grand slam winner is chasing his   th atp title at the swiss indoors this week and he faces jan lennard struff in the second round on thursday   pm bst  davenport enjoyed most of her success in the late     s and her third and final major tournament win came at the      australian open but she claims the mentality of professional tennis players slowly began to change after the new millennium  it seems pretty friendly right now   said davenport  i think there is a really nice environment and a great atmosphere  especially between some of the veteran players helping some of the younger players out  it s a very pleasant atmosphere  i d have to say  around the locker rooms  i felt like the best weeks that i had to get to know players when i was playing were the fed cup weeks or the olympic weeks  not necessarily during the tournaments  and even though maybe we had smaller teams  i still think we kept to ourselves quite a bit  not always  but i really feel like in the mid      years there was a huge shift of the attitudes of the top players and being more friendly and being more giving  and a lot of that had to do with players like roger coming up  i just felt like it really kind of changed where people were a little bit  definitely in the   s  a lot more quiet  into themselves  and then it started to become better  meanwhile  federer is hoping he can improve his service game as he hunts his ninth swiss indoors title this week  i didn t serve very well  against first round opponent filip kranjovic   federer said  i think i was misfiring the corners  i was not hitting the lines enough  clearly you make your life more difficult  but still i was up           break points  so things could have ended very quickly today  even though i didn t have the best serve percentage stats  but maybe that s exactly what caught up to me eventually it s just getting used to it this is where the first rounds can be tricky  nadal has not played tennis since he was forced to retire from the us open semi finals against juan martin del porto with a knee injury the world no   has been forced to miss spain s davis cup clash with france and the asian hard court season but with the atp world tour finals due to begin next month  nadal is ready to prove his fitness before the season ending event at the    arena nadal flew to paris on friday and footage from the paris masters official twitter account shows the spaniard smiling as he strides onto court for practice the paris masters draw has been made and nadal will start his campaign on tuesday or wednesday against either fernando verdasco or jeremy chardy nadal could then play defending champion jack sock in the third round before a potential quarter final with either borna coric or dominic thiem nadal s appearance in paris is a big boost to the tournament organisers who could see roger federer withdraw federer is in action at the swiss indoors in basel and if he reaches the final  he could pull out of paris in a bid to stay fresh for london but as it stands  federer is in the draw and is scheduled to face either former world no   milos raonic or jo wilfried tsonga in the second round federer s projected route to the paris final could also lead to matches against kevin anderson and novak djokovic djokovic could play marco cecchinato in the second round british no   kyle edmund is the   th seed in paris and will get underway in round two against either karen khachanov or filip krajinovic tennis giveth  and tennis taketh away the end of the season is finally in sight  and with so many players defending or losing huge chunks of points in singapore  zhuhai and london  podcast co hosts nina pantic and irina falconi discuss the art of defending points         it s no secret that jack sock has struggled on the singles court this year  his record is       he could lose       points in the next few weeks  but instead of focusing on the negative  it can all be about perspective         let s also not forget his two grand slam doubles triumphs this season two players  stefanos tsitsipas and kyle edmund  won their first career atp titles last week         it s a big deal because you never forget your first irina looks back at her wta title win in bogota in       and tells an unforgettable story about her semifinal drama         in singapore  one of the biggest storylines  aside from the matches  of course  has been the on court coaching debate nina and irina give their opinions on what coaching should look like in the future  on both tours         federer won the swiss indoors last week by beating romanian qualifier marius copil in the final the    year old claimed his   th atp title and is hunting the century in the french capital this week federer has been handed a difficult draw where could could come across kevin anderson  novak djokovic and rafael nadal in the latter rounds but first the    time grand slam winner wants to train on the paris masters court this afternoon before deciding whether to appear for his opening match against either milos raonic or jo wilfried tsonga  on monday  i am free and will look how i feel   federer said after winning the swiss indoors  on tuesday i will fly to paris and train in the afternoon to be ready for my first match on wednesday night  i felt good all week and better every day  we also had the impression that at this stage it might be better to play matches than to train  and as long as i fear no injury  i play  federer s success in basel last week was the ninth time he has won his hometown tournament and he was delighted to be watched on by all of his family and friends as he purchased    tickets for the final for those dearest to him  my children  my parents  my sister and my team are all there   federer added  it is always very emotional for me to thank my team and sometimes it tilts with the emotions  sometimes i just stumble  it means the world to me it makes me incredibly happy to win my home tournament and make people happy here  i do not know if it s maybe my last title  so today i try a lot more to absorb that and enjoy the moments much more consciously  maybe i should celebrate as if it were my last title  there are very touching moments  seeing the ball children  the standing ovations  all the familiar faces in the audience because it was not always easy in the last weeks  '"
      ]
     },
     "execution_count": 5,
     "metadata": {},
     "output_type": "execute_result"
    }
   ],
   "source": [
    "### pre processes the sentences by removing non alphabet characters and converting them to lower case letters \n",
    "### and stored in variable text\n",
    "\n",
    "dict = {}\n",
    "text=\"\"\n",
    "for a in sentences:\n",
    "    temp = re.sub(\"[^a-zA-Z]\",\" \",a)\n",
    "    temp = temp.lower()\n",
    "    dict[temp] = a\n",
    "    text+=temp\n",
    "text"
   ]
  },
  {
   "cell_type": "markdown",
   "metadata": {},
   "source": [
    "## STEP 2 : Getting tf-idf score of sentences\n",
    "### Finding term frequency ( tf ) of words found in text"
   ]
  },
  {
   "cell_type": "code",
   "execution_count": 6,
   "metadata": {},
   "outputs": [
    {
     "name": "stdout",
     "output_type": "stream",
     "text": [
      "{'maria': 1, 'sharapova': 1, 'basically': 1, 'friends': 6, 'tennis': 12, 'players': 16, 'wta': 2, 'tour': 5, 'russian': 1, 'player': 2, 'problems': 1, 'openly': 1, 'speaking': 2, 'recent': 1, 'interview': 1, 'said': 11, 'really': 6, 'hide': 1, 'feelings': 1, 'much': 3, 'think': 8, 'everyone': 3, 'knows': 1, 'job': 1, 'courts': 2, 'court': 6, 'playing': 3, 'competitor': 1, 'want': 1, 'beat': 1, 'every': 3, 'single': 1, 'person': 2, 'whether': 2, 'locker': 2, 'room': 1, 'across': 2, 'net': 1, 'one': 4, 'strike': 1, 'conversation': 1, 'weather': 1, 'know': 3, 'next': 8, 'minutes': 1, 'go': 2, 'try': 3, 'win': 9, 'match': 7, 'pretty': 2, 'competitive': 1, 'girl': 1, 'say': 2, 'hellos': 1, 'sending': 1, 'flowers': 1, 'well': 2, 'uhm': 1, 'friendly': 3, 'close': 3, 'many': 3, 'lot': 5, 'away': 3, 'something': 1, 'strategic': 1, 'different': 4, 'men': 1, 'women': 1, 'sport': 1, 'mean': 2, 'categorized': 1, 'going': 2, 'get': 4, 'along': 2, 'interests': 2, 'completely': 1, 'jobs': 1, 'met': 1, 'parts': 1, 'life': 2, 'thinks': 1, 'greatest': 1, 'ultimately': 1, 'small': 1, 'part': 1, 'things': 2, 'interested': 1, 'basel': 5, 'switzerland': 1, 'ap': 1, 'roger': 4, 'federer': 21, 'advanced': 1, 'th': 7, 'swiss': 7, 'indoors': 7, 'final': 11, 'career': 6, 'beating': 5, 'seventh': 1, 'seeded': 3, 'daniil': 1, 'medvedev': 5, 'saturday': 1, 'seeking': 1, 'ninth': 4, 'title': 10, 'hometown': 2, 'event': 6, 'overall': 1, 'play': 7, 'ranked': 3, 'marius': 3, 'copil': 6, 'sunday': 3, 'dominated': 1, 'first': 12, 'point': 4, 'chance': 3, 'break': 4, 'serve': 7, 'dropped': 2, 'love': 1, 'let': 2, 'another': 2, 'slip': 1, 'service': 2, 'game': 2, 'netting': 1, 'backhand': 1, 'clinched': 1, 'fourth': 1, 'netted': 1, 'baseline': 1, 'upset': 1, 'expectations': 1, 'alexander': 1, 'zverev': 4, 'fifth': 3, 'german': 1, 'earlier': 2, 'semifinal': 3, 'romanian': 3, 'aims': 1, 'arriving': 1, 'without': 1, 'top': 2, 'opponent': 2, 'two': 7, 'also': 4, 'marin': 1, 'cilic': 1, 'second': 10, 'round': 7, 'fired': 1, 'aces': 2, 'past': 1, 'never': 2, 'clinching': 1, 'hours': 1, 'forehand': 1, 'volley': 1, 'winner': 4, 'time': 9, 'came': 3, 'rounds': 4, 'qualifying': 3, 'last': 7, 'weekend': 1, 'reach': 1, 'main': 1, 'draw': 4, 'including': 1, 'older': 1, 'brother': 1, 'mischa': 1, 'easier': 1, 'previous': 2, 'three': 4, 'setter': 1, 'shanghai': 2, 'weeks': 6, 'ago': 2, 'revealed': 1, 'organisers': 3, 'launched': 1, 'condensed': 1, 'davis': 3, 'cup': 5, 'gave': 1, 'days': 2, 'decide': 2, 'would': 1, 'commit': 1, 'controversial': 1, 'competition': 2, 'tournament': 5, 'sundays': 1, 'qualifier': 2, 'world': 6, 'number': 1, 'given': 1, 'impossibly': 1, 'short': 1, 'frame': 1, 'make': 4, 'decision': 2, 'opted': 1, 'commitment': 1, 'left': 1, 'consult': 2, 'people': 3, 'could': 11, 'told': 1, 'wanted': 1, 'grand': 4, 'slam': 4, 'champion': 2, 'voiced': 1, 'doubts': 1, 'wisdom': 1, 'week': 8, 'format': 1, 'introduced': 1, 'kosmos': 3, 'promised': 1, 'international': 1, 'federation': 1, 'billion': 1, 'prize': 1, 'money': 1, 'quarter': 2, 'century': 2, 'set': 4, 'feature': 1, 'countries': 1, 'november': 2, 'finals': 6, 'madrid': 1, 'year': 7, 'replace': 1, 'classic': 1, 'home': 2, 'ties': 1, 'played': 2, 'four': 2, 'times': 1, 'per': 1, 'decades': 2, 'headed': 1, 'barcelona': 1, 'footballer': 1, 'gerard': 1, 'pique': 1, 'hoping': 2, 'fellow': 1, 'spaniard': 3, 'rafael': 2, 'nadal': 8, 'upcoming': 1, 'novak': 3, 'djokovic': 4, 'give': 2, 'precedence': 1, 'atp': 8, 'intended': 1, 'launch': 1, 'defunct': 1, 'team': 3, 'january': 2, 'various': 1, 'australian': 3, 'venues': 1, 'major': 2, 'feel': 3, 'big': 3, 'late': 2, 'combined': 1, 'open': 4, 'little': 2, 'rest': 1, 'month': 3, 'chances': 1, 'non': 1, 'existent': 1, 'highly': 1, 'doubt': 1, 'course': 2, 'see': 2, 'happens': 1, 'designed': 2, 'anyhow': 1, 'future': 2, 'generation': 1, 'argentina': 1, 'britain': 1, 'received': 1, 'wild': 1, 'cards': 1, 'new': 3, 'look': 3, 'compete': 1, 'semi': 2, 'finalists': 1, 'teams': 2, 'february': 3, 'like': 6, 'kind': 2, 'pressure': 1, 'deadline': 1, 'handed': 2, 'kei': 1, 'nishikori': 6, 'end': 2, 'long': 2, 'losing': 2, 'streak': 1, 'kevin': 3, 'anderson': 9, 'erste': 1, 'bank': 1, 'reached': 1, 'third': 3, 'mikhail': 1, 'kukushkin': 2, 'kazakhstan': 1, 'semifinals': 1, 'events': 1, 'triumphed': 1, 'since': 4, 'winning': 3, 'memphis': 1, 'lost': 1, 'eight': 2, 'straight': 1, 'defeated': 1, 'fernando': 2, 'verdasco': 3, 'shot': 1, 'york': 1, 'leads': 1, 'matchups': 1, 'south': 2, 'african': 2, 'meeting': 1, 'victory': 1, 'qualify': 1, 'currently': 1, 'place': 1, 'move': 1, 'within': 1, 'points': 5, 'cut': 1, 'man': 1, 'london': 3, 'held': 1, 'throughout': 1, 'used': 2, 'wrapping': 1, 'hit': 1, 'nine': 1, 'opening': 2, 'broke': 2, 'twice': 1, 'gone': 1, 'enjoy': 2, 'glittering': 1, 'chasing': 1, 'faces': 2, 'jan': 1, 'lennard': 1, 'struff': 1, 'thursday': 1, 'pm': 1, 'bst': 1, 'davenport': 2, 'enjoyed': 1, 'success': 2, 'claims': 1, 'mentality': 1, 'professional': 1, 'slowly': 1, 'began': 1, 'change': 1, 'millennium': 1, 'seems': 1, 'right': 1, 'nice': 1, 'environment': 1, 'great': 1, 'atmosphere': 2, 'especially': 1, 'veteran': 1, 'helping': 1, 'younger': 1, 'pleasant': 1, 'around': 1, 'rooms': 1, 'felt': 3, 'best': 2, 'fed': 1, 'olympic': 1, 'necessarily': 1, 'tournaments': 1, 'even': 2, 'though': 2, 'maybe': 4, 'smaller': 1, 'still': 2, 'kept': 1, 'quite': 1, 'bit': 2, 'always': 3, 'mid': 1, 'years': 1, 'huge': 2, 'shift': 1, 'attitudes': 1, 'giving': 1, 'coming': 1, 'changed': 1, 'definitely': 1, 'quiet': 1, 'started': 1, 'become': 1, 'better': 3, 'meanwhile': 1, 'improve': 1, 'hunts': 1, 'filip': 2, 'kranjovic': 1, 'misfiring': 1, 'corners': 1, 'hitting': 1, 'lines': 1, 'enough': 1, 'clearly': 1, 'difficult': 2, 'ended': 1, 'quickly': 1, 'today': 2, 'percentage': 1, 'stats': 1, 'exactly': 1, 'caught': 1, 'eventually': 1, 'getting': 1, 'tricky': 1, 'forced': 2, 'retire': 1, 'us': 1, 'juan': 1, 'martin': 1, 'del': 1, 'porto': 1, 'knee': 1, 'injury': 2, 'miss': 1, 'spain': 1, 'clash': 1, 'france': 1, 'asian': 1, 'hard': 1, 'season': 4, 'due': 1, 'begin': 1, 'ready': 2, 'prove': 1, 'fitness': 1, 'ending': 1, 'arena': 1, 'flew': 1, 'paris': 9, 'friday': 1, 'footage': 1, 'masters': 3, 'official': 1, 'twitter': 1, 'account': 1, 'shows': 1, 'smiling': 1, 'strides': 1, 'onto': 1, 'practice': 1, 'made': 1, 'start': 1, 'campaign': 1, 'tuesday': 2, 'wednesday': 2, 'either': 5, 'jeremy': 1, 'chardy': 1, 'defending': 3, 'jack': 2, 'sock': 2, 'potential': 1, 'borna': 1, 'coric': 1, 'dominic': 1, 'thiem': 1, 'appearance': 1, 'boost': 1, 'withdraw': 1, 'action': 1, 'reaches': 1, 'pull': 1, 'bid': 1, 'stay': 1, 'fresh': 1, 'stands': 1, 'scheduled': 1, 'face': 1, 'former': 1, 'milos': 2, 'raonic': 2, 'jo': 2, 'wilfried': 2, 'tsonga': 2, 'projected': 1, 'route': 1, 'lead': 1, 'matches': 3, 'marco': 1, 'cecchinato': 1, 'british': 1, 'kyle': 2, 'edmund': 2, 'seed': 1, 'underway': 1, 'karen': 1, 'khachanov': 1, 'krajinovic': 1, 'giveth': 1, 'taketh': 1, 'finally': 1, 'sight': 1, 'chunks': 1, 'singapore': 2, 'zhuhai': 1, 'podcast': 1, 'co': 1, 'hosts': 1, 'nina': 2, 'pantic': 1, 'irina': 3, 'falconi': 1, 'discuss': 1, 'art': 1, 'secret': 1, 'struggled': 1, 'singles': 1, 'record': 1, 'lose': 1, 'instead': 1, 'focusing': 1, 'negative': 1, 'perspective': 1, 'forget': 2, 'doubles': 1, 'triumphs': 1, 'stefanos': 1, 'tsitsipas': 1, 'titles': 1, 'deal': 1, 'looks': 1, 'back': 1, 'bogota': 1, 'tells': 1, 'unforgettable': 1, 'story': 1, 'drama': 1, 'biggest': 1, 'storylines': 1, 'aside': 1, 'coaching': 2, 'debate': 1, 'opinions': 1, 'tours': 1, 'old': 1, 'claimed': 1, 'hunting': 1, 'french': 1, 'capital': 1, 'come': 1, 'latter': 1, 'wants': 1, 'train': 3, 'afternoon': 2, 'deciding': 1, 'appear': 1, 'monday': 1, 'free': 1, 'fly': 1, 'night': 1, 'good': 1, 'day': 1, 'impression': 1, 'stage': 1, 'might': 1, 'fear': 1, 'delighted': 1, 'watched': 1, 'family': 1, 'purchased': 1, 'tickets': 1, 'dearest': 1, 'children': 2, 'parents': 1, 'sister': 1, 'added': 1, 'emotional': 1, 'thank': 1, 'sometimes': 2, 'tilts': 1, 'emotions': 1, 'stumble': 1, 'means': 1, 'makes': 1, 'incredibly': 1, 'happy': 2, 'absorb': 1, 'moments': 2, 'consciously': 1, 'celebrate': 1, 'touching': 1, 'seeing': 1, 'ball': 1, 'standing': 1, 'ovations': 1, 'familiar': 1, 'audience': 1, 'easy': 1}\n"
     ]
    }
   ],
   "source": [
    "### calculated the frequency of the words found in text\n",
    "\n",
    "stopwords = nltk.corpus.stopwords.words('english')\n",
    "word_frequencies = {}\n",
    "for word in nltk.word_tokenize(text):\n",
    "    if word not in stopwords:\n",
    "        if word not in word_frequencies.keys():\n",
    "            word_frequencies[word] = 1\n",
    "        else:\n",
    "            word_frequencies[word] += 1\n",
    "print (word_frequencies)"
   ]
  },
  {
   "cell_type": "markdown",
   "metadata": {},
   "source": [
    "### Finding weighted frequency of the words"
   ]
  },
  {
   "cell_type": "code",
   "execution_count": 7,
   "metadata": {},
   "outputs": [],
   "source": [
    "### finding weighted frequency of the words\n",
    "\n",
    "max_freq = max(word_frequencies.values())\n",
    "\n",
    "for w in word_frequencies :\n",
    "      word_frequencies[w]/=max_freq\n",
    "# print word_frequencies"
   ]
  },
  {
   "cell_type": "markdown",
   "metadata": {},
   "source": [
    "### Calculating sentence scores from the word frequncies"
   ]
  },
  {
   "cell_type": "code",
   "execution_count": 8,
   "metadata": {},
   "outputs": [],
   "source": [
    "### calculating sentence scores from the word frequncies\n",
    "\n",
    "sentence_scores = {}\n",
    "for sent in sentences:\n",
    "    for word in nltk.word_tokenize(sent.lower()):\n",
    "        if word in word_frequencies.keys():\n",
    "            if len(sent.split(' ')) < 30:\n",
    "                if sent not in sentence_scores.keys():\n",
    "                    sentence_scores[sent] = word_frequencies[word]\n",
    "                else:\n",
    "                    sentence_scores[sent] += word_frequencies[word]"
   ]
  },
  {
   "cell_type": "markdown",
   "metadata": {},
   "source": [
    "## STEP 3 : Summary Generation\n",
    "### Outputting the top 17 sentences as the summary"
   ]
  },
  {
   "cell_type": "code",
   "execution_count": 9,
   "metadata": {},
   "outputs": [],
   "source": [
    "### getting the summary by taking top score sentences\n",
    "\n",
    "import heapq\n",
    "summary_sentences = heapq.nlargest(17, sentence_scores, key=sentence_scores.get)\n",
    "summary = ' '.join(summary_sentences)"
   ]
  },
  {
   "cell_type": "code",
   "execution_count": 10,
   "metadata": {},
   "outputs": [
    {
     "data": {
      "text/plain": [
       "['Federer has been handed a difficult draw where could could come across Kevin Anderson, Novak Djokovic and Rafael Nadal in the latter rounds.',\n",
       " 'He used his first break point to close out the first set before going up 3-0 in the second and wrapping up the win on his first match point.',\n",
       " \"Federer's projected route to the Paris final could also lead to matches against Kevin Anderson and Novak Djokovic.\",\n",
       " 'Two players, Stefanos Tsitsipas and Kyle Edmund, won their first career ATP titles last week (13:26).',\n",
       " \"'BASEL, Switzerland (AP), Roger Federer advanced to the 14th Swiss Indoors final of his career by beating seventh-seeded Daniil Medvedev 6-1, 6-4 on Saturday.\",\n",
       " \"Nadal's appearance in Paris is a big boost to the tournament organisers who could see Roger Federer withdraw.\",\n",
       " 'Major players feel that a big event in late November combined with one in January before the Australian Open will mean too much tennis and too little rest.',\n",
       " 'Meanwhile, Federer is hoping he can improve his service game as he hunts his ninth Swiss Indoors title this week.',\n",
       " 'Seeking a ninth title at his hometown event, and a 99th overall, Federer will play 93th-ranked Marius Copil on Sunday.',\n",
       " 'But as it stands, Federer is in the draw and is scheduled to face either former world No 3 Milos Raonic or Jo-Wilfried Tsonga in the second round.',\n",
       " \"Federer's success in Basel last week was the ninth time he has won his hometown tournament.\",\n",
       " 'Currently in ninth place, Nishikori with a win could move to within 125 points of the cut for the eight-man event in London next month.',\n",
       " 'Copil upset expectations of a Federer final against Alexander Zverev in a 6-3, 6-7 (6), 6-4 win over the fifth-ranked German in the earlier semifinal.',\n",
       " '\"On Monday, I am free and will look how I feel,\" Federer said after winning the Swiss Indoors.',\n",
       " 'But with the ATP World Tour Finals due to begin next month, Nadal is ready to prove his fitness before the season-ending event at the 02 Arena.',\n",
       " 'Anderson has a shot at a fifth career title and second of the year after winning in New York in February.',\n",
       " '\"I think there is a really nice environment and a great atmosphere, especially between some of the veteran players helping some of the younger players out.']"
      ]
     },
     "execution_count": 10,
     "metadata": {},
     "output_type": "execute_result"
    }
   ],
   "source": [
    "summary_sentences"
   ]
  },
  {
   "cell_type": "code",
   "execution_count": 11,
   "metadata": {},
   "outputs": [
    {
     "data": {
      "text/plain": [
       "'Federer has been handed a difficult draw where could could come across Kevin Anderson, Novak Djokovic and Rafael Nadal in the latter rounds. He used his first break point to close out the first set before going up 3-0 in the second and wrapping up the win on his first match point. Federer\\'s projected route to the Paris final could also lead to matches against Kevin Anderson and Novak Djokovic. Two players, Stefanos Tsitsipas and Kyle Edmund, won their first career ATP titles last week (13:26). \\'BASEL, Switzerland (AP), Roger Federer advanced to the 14th Swiss Indoors final of his career by beating seventh-seeded Daniil Medvedev 6-1, 6-4 on Saturday. Nadal\\'s appearance in Paris is a big boost to the tournament organisers who could see Roger Federer withdraw. Major players feel that a big event in late November combined with one in January before the Australian Open will mean too much tennis and too little rest. Meanwhile, Federer is hoping he can improve his service game as he hunts his ninth Swiss Indoors title this week. Seeking a ninth title at his hometown event, and a 99th overall, Federer will play 93th-ranked Marius Copil on Sunday. But as it stands, Federer is in the draw and is scheduled to face either former world No 3 Milos Raonic or Jo-Wilfried Tsonga in the second round. Federer\\'s success in Basel last week was the ninth time he has won his hometown tournament. Currently in ninth place, Nishikori with a win could move to within 125 points of the cut for the eight-man event in London next month. Copil upset expectations of a Federer final against Alexander Zverev in a 6-3, 6-7 (6), 6-4 win over the fifth-ranked German in the earlier semifinal. \"On Monday, I am free and will look how I feel,\" Federer said after winning the Swiss Indoors. But with the ATP World Tour Finals due to begin next month, Nadal is ready to prove his fitness before the season-ending event at the 02 Arena. Anderson has a shot at a fifth career title and second of the year after winning in New York in February. \"I think there is a really nice environment and a great atmosphere, especially between some of the veteran players helping some of the younger players out.'"
      ]
     },
     "execution_count": 11,
     "metadata": {},
     "output_type": "execute_result"
    }
   ],
   "source": [
    "summary"
   ]
  },
  {
   "cell_type": "code",
   "execution_count": 12,
   "metadata": {},
   "outputs": [
    {
     "data": {
      "text/plain": [
       "2183"
      ]
     },
     "execution_count": 12,
     "metadata": {},
     "output_type": "execute_result"
    }
   ],
   "source": [
    "len(summary)"
   ]
  }
 ],
 "metadata": {
  "kernelspec": {
   "display_name": "Python 3 (ipykernel)",
   "language": "python",
   "name": "python3"
  },
  "language_info": {
   "codemirror_mode": {
    "name": "ipython",
    "version": 3
   },
   "file_extension": ".py",
   "mimetype": "text/x-python",
   "name": "python",
   "nbconvert_exporter": "python",
   "pygments_lexer": "ipython3",
   "version": "3.9.5"
  }
 },
 "nbformat": 4,
 "nbformat_minor": 2
}
