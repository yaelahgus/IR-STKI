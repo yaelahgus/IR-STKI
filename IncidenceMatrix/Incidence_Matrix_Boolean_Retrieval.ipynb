{
  "nbformat": 4,
  "nbformat_minor": 0,
  "metadata": {
    "colab": {
      "provenance": []
    },
    "kernelspec": {
      "name": "python3",
      "display_name": "Python 3"
    },
    "language_info": {
      "name": "python"
    }
  },
  "cells": [
    {
      "cell_type": "code",
      "execution_count": 4,
      "metadata": {
        "colab": {
          "base_uri": "https://localhost:8080/"
        },
        "id": "AVTgDD7l8CJu",
        "outputId": "7906574c-c206-4cdb-9d0c-ef514a43970a"
      },
      "outputs": [
        {
          "output_type": "stream",
          "name": "stdout",
          "text": [
            "       forecasts  home  in  increase  july  new  rise  sales  top\n",
            "Doc 1          1     1   0         0     0    1     0      1    1\n",
            "Doc 2          0     1   1         0     1    0     1      1    0\n",
            "Doc 3          0     1   1         1     1    0     0      1    0\n",
            "Doc 4          0     1   0         0     1    1     1      1    0\n"
          ]
        }
      ],
      "source": [
        "#AGUS_ARIFUDIN\n",
        "#A11.2021.13736\n",
        "\n",
        "import pandas as pd\n",
        "from sklearn.feature_extraction.text import CountVectorizer\n",
        "\n",
        "# Dokumen-dokumen\n",
        "documents = [\n",
        "    \"New home sales top forecasts\",\n",
        "    \"Home sales rise in july\",\n",
        "    \"Increase in home sales in july\",\n",
        "    \"July new home sales rise\"\n",
        "]\n",
        "\n",
        "# Inisialisasi CountVectorizer untuk membuat Incidence Matrix\n",
        "vectorizer = CountVectorizer(binary=True)\n",
        "\n",
        "# Transformasi dokumen menjadi Incidence Matrix\n",
        "incidence_matrix = vectorizer.fit_transform(documents)\n",
        "\n",
        "# Mendapatkan daftar kata unik\n",
        "unique_words = vectorizer.get_feature_names_out()\n",
        "\n",
        "# Membuat DataFrame untuk Incidence Matrix\n",
        "df = pd.DataFrame(incidence_matrix.toarray(), columns=unique_words, index=[f'Doc {i+1}' for i in range(len(documents))])\n",
        "\n",
        "# Menampilkan Incidence Matrix\n",
        "print(df)\n"
      ]
    },
    {
      "cell_type": "code",
      "source": [
        "# Query 1: Home AND Sales AND NOT July\n",
        "query1_result = df[(df['home'] == 1) & (df['sales'] == 1) & (df['july'] == 0)]\n",
        "print(\"Hasil Query 1 (Home AND Sales AND NOT July):\")\n",
        "print(query1_result)\n",
        "\n",
        "# Query 2: Home AND July AND NOT Sales\n",
        "query2_result = df[(df['home'] == 1) & (df['july'] == 1) & (df['sales'] == 0)]\n",
        "print(\"\\nHasil Query 2 (Home AND July AND NOT Sales):\")\n",
        "print(query2_result)\n"
      ],
      "metadata": {
        "colab": {
          "base_uri": "https://localhost:8080/"
        },
        "id": "TyXhJves8WYH",
        "outputId": "2ab0fbcc-ea3d-48bb-8b7a-ce8b19f7060f"
      },
      "execution_count": 3,
      "outputs": [
        {
          "output_type": "stream",
          "name": "stdout",
          "text": [
            "Hasil Query 1 (Home AND Sales AND NOT July):\n",
            "       forecasts  home  in  increase  july  new  rise  sales  top\n",
            "Doc 1          1     1   0         0     0    1     0      1    1\n",
            "\n",
            "Hasil Query 2 (Home AND July AND NOT Sales):\n",
            "Empty DataFrame\n",
            "Columns: [forecasts, home, in, increase, july, new, rise, sales, top]\n",
            "Index: []\n"
          ]
        }
      ]
    }
  ]
}